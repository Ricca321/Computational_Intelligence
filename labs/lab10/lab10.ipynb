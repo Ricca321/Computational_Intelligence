{
 "cells": [
  {
   "cell_type": "markdown",
   "metadata": {},
   "source": [
    "# LAB10\n",
    "\n",
    "Use reinforcement learning to devise a tic-tac-toe player.\n",
    "\n",
    "### Deadlines:\n",
    "\n",
    "* Submission: [Dies Natalis Solis Invicti](https://en.wikipedia.org/wiki/Sol_Invictus)\n",
    "* Reviews: [Befana](https://en.wikipedia.org/wiki/Befana)\n",
    "\n",
    "Notes:\n",
    "\n",
    "* Reviews will be assigned  on Monday, December 4\n",
    "* You need to commit in order to be selected as a reviewer (ie. better to commit an empty work than not to commit)"
   ]
  },
  {
   "cell_type": "code",
   "execution_count": 1381,
   "metadata": {},
   "outputs": [],
   "source": [
    "from dataclasses import dataclass\n",
    "from random import randint\n",
    "from tqdm import tqdm\n",
    "import pickle\n",
    "import ipywidgets as widgets\n",
    "from IPython.display import display\n",
    "import threading\n",
    "import math\n",
    "import matplotlib.pyplot as plt"
   ]
  },
  {
   "cell_type": "code",
   "execution_count": 1382,
   "metadata": {},
   "outputs": [],
   "source": [
    "GAME_SIZE = 2000000\n",
    "LR = 0.3\n",
    "DECAY = 5\n",
    "EPSILON = 0.05\n",
    "BATCH = 5000"
   ]
  },
  {
   "cell_type": "code",
   "execution_count": 1383,
   "metadata": {},
   "outputs": [],
   "source": [
    "@dataclass\n",
    "class Player:\n",
    "    marker: str\n",
    "    startegy: callable\n",
    "    table_points: [[]]\n",
    "    practice: bool\n",
    "\n",
    "    "
   ]
  },
  {
   "cell_type": "code",
   "execution_count": 1384,
   "metadata": {},
   "outputs": [],
   "source": [
    "import random\n",
    "\n",
    "class TicTacToe:\n",
    "    def __init__(self) -> None:\n",
    "        self._table = [[6,1,8],[7,5,3],[2,9,4]] \n",
    "        self._game = [[\" \", \" \", \" \"],[\" \", \" \", \" \"],[\" \", \" \", \" \"]]\n",
    "        self._row = 3\n",
    "        self._column = 3\n",
    "        self._available_moves = 9\n",
    "\n",
    "    def printGame(self):\n",
    "        for i in range(len(self._game)):\n",
    "            for j in range(len(self._game[i])):\n",
    "                print(\"| \"+str(self._game[i][j]) ,end =\" \")\n",
    "            print(\"|\\n  -   -   -\")\n",
    "        print(\"\\n\")\n",
    "    \n",
    "    def move(self, coordinates , player: Player):\n",
    "        if self._row <= coordinates[0] or self._column <= coordinates[1]:\n",
    "            return -1\n",
    "        if self._game[coordinates[0]][coordinates[1]] != \" \":\n",
    "            return -1\n",
    "        self._game[coordinates[0]][coordinates[1]] = player.marker\n",
    "        return 1\n",
    "    \n",
    "    def check_game(self):\n",
    "        #ROW\n",
    "        for i in range(len(self._game)):\n",
    "            count_x = 0\n",
    "            count_o = 0\n",
    "            for j in range(len(self._game[i])):\n",
    "                if self._game[i][j] == \"X\":\n",
    "                    count_x += 1\n",
    "                if self._game[i][j] == \"O\":\n",
    "                    count_o += 1\n",
    "            if count_x == 3:\n",
    "                return \"X\"\n",
    "            elif count_o == 3:\n",
    "                return \"O\"\n",
    "        #COLUMN\n",
    "        for i in range(len(self._game)):\n",
    "            count_x = 0\n",
    "            count_o = 0\n",
    "            for j in range(len(self._game[i])):    \n",
    "                if self._game[j][i] == \"X\":\n",
    "                    count_x += 1\n",
    "                if self._game[j][i] == \"O\":\n",
    "                    count_o += 1\n",
    "            if count_x == 3:\n",
    "                return \"X\"\n",
    "            elif count_o == 3:\n",
    "                return \"O\"\n",
    "        #DIAG\n",
    "        for i in range(len(self._game)):\n",
    "            count_x = 0\n",
    "            count_o = 0\n",
    "            if self._game[i][i] == \"X\":\n",
    "                count_x += 1\n",
    "            if self._game[i][i] == \"O\":\n",
    "                count_o += 1\n",
    "            if count_x == 3:\n",
    "                return \"X\"\n",
    "            elif count_o == 3:\n",
    "                return \"O\"\n",
    "\n",
    "        #DIAG inv\n",
    "        for i in range(len(self._game)):\n",
    "            count_x = 0\n",
    "            count_o = 0\n",
    "            if self._game[i][self._column-i-1] == \"X\":\n",
    "                count_x += 1\n",
    "            if self._game[i][self._column-i-1] == \"O\":\n",
    "                count_o += 1\n",
    "            if count_x == 3:\n",
    "                return \"X\"\n",
    "            elif count_o == 3:\n",
    "                return \"O\"\n",
    "\n",
    "        return \"-1\""
   ]
  },
  {
   "cell_type": "code",
   "execution_count": 1385,
   "metadata": {},
   "outputs": [],
   "source": [
    "def random_strategy(player: Player, TicTacToe: TicTacToe, epsilon= EPSILON):\n",
    "        row = randint(0,TicTacToe._row-1)\n",
    "        column = randint(0,TicTacToe._row-1)\n",
    "        return (row, column)\n"
   ]
  },
  {
   "cell_type": "code",
   "execution_count": 1386,
   "metadata": {},
   "outputs": [],
   "source": [
    "def current_value(player: Player, ticTacToe: TicTacToe):\n",
    "    val = 0\n",
    "    for i in range(len(player.table_points)):\n",
    "        for j in range(len(player.table_points[i])):\n",
    "            if player.table_points[i][j][1] == 1 and ticTacToe._game[i][j] == player.marker:\n",
    "                val += player.table_points[i][j][0]\n",
    "    return val"
   ]
  },
  {
   "cell_type": "code",
   "execution_count": 1387,
   "metadata": {},
   "outputs": [],
   "source": [
    "def reinforcement_strategy(player:Player ,ticTacToe: TicTacToe, epsilon= EPSILON):\n",
    "    max_x = 0\n",
    "    max_y = 0\n",
    "    max_val = -9999\n",
    "    new_val = 0\n",
    "\n",
    "    if random.random() < epsilon and player.practice == True:\n",
    "        row = randint(0,ticTacToe._row-1)\n",
    "        column = randint(0,ticTacToe._row-1)\n",
    "        while player.table_points[row][column][1] != 0 and ticTacToe._game[row][column] != \" \":\n",
    "            row = randint(0,ticTacToe._row-1)\n",
    "            column = randint(0,ticTacToe._row-1)\n",
    "        player.table_points[row][column] = (player.table_points[row][column][0], 1)\n",
    "        return (row, column)\n",
    "    else:\n",
    "        current_val = current_value(player, ticTacToe)\n",
    "        for i in range(len(player.table_points)):\n",
    "            for j in range(len(player.table_points[i])):\n",
    "                if player.table_points[i][j][1] == 0 and ticTacToe._game[i][j] == \" \":\n",
    "                    new_val = current_val+player.table_points[i][j][0]\n",
    "                    if new_val> max_val:\n",
    "                        max_x = i\n",
    "                        max_y = j\n",
    "                        max_val = new_val\n",
    "        player.table_points[max_x][max_y] = (player.table_points[max_x][max_y][0], 1)\n",
    "    return (max_x, max_y)"
   ]
  },
  {
   "cell_type": "code",
   "execution_count": 1388,
   "metadata": {},
   "outputs": [],
   "source": [
    "tictactoe = TicTacToe()\n",
    "player_X = Player( \"X\", reinforcement_strategy, [[(random.random(), 0) for _ in range(tictactoe._column)] for _ in range(tictactoe._row)], True)\n",
    "player_O = Player( \"O\", random_strategy, [[(random.random(), 0)for _ in range(tictactoe._column)] for _ in range(tictactoe._row)], True)\n"
   ]
  },
  {
   "cell_type": "code",
   "execution_count": 1389,
   "metadata": {},
   "outputs": [],
   "source": [
    "def play(ticTacToe: TicTacToe, epsilon= EPSILON):\n",
    "    turn = 0\n",
    "    while ticTacToe._available_moves != 0 :\n",
    "        if turn == 0:\n",
    "            player = player_X\n",
    "        else:\n",
    "            player = player_O\n",
    "        \n",
    "        while ticTacToe.move(player.startegy(player,ticTacToe,epsilon), player)!= 1:\n",
    "            continue\n",
    "        winner = ticTacToe.check_game()\n",
    "        if winner != \"-1\":\n",
    "            return winner\n",
    "        turn = 1- turn    \n",
    "        ticTacToe._available_moves -=1\n",
    "    return -1"
   ]
  },
  {
   "cell_type": "code",
   "execution_count": 1390,
   "metadata": {},
   "outputs": [],
   "source": [
    "def stick_and_carrot(winner, training):\n",
    "    MUL = 0\n",
    "    reward = 0\n",
    "    if winner == -1:\n",
    "        MUL = 0\n",
    "    elif winner==\"X\":\n",
    "        MUL = 1\n",
    "    elif winner == \"O\":\n",
    "        MUL = -0.8\n",
    "     \n",
    "    for i in range(len(player_X.table_points)):\n",
    "        for j in range(len(player_X.table_points[i])):\n",
    "            if  player_X.table_points[i][j][1] == 1:\n",
    "                \n",
    "                reward = ((MUL - player_X.table_points[i][j][0])*LR)\n",
    "                new_val = player_X.table_points[i][j][0] + reward*training\n",
    "                \n",
    "                player_X.table_points[i][j] = (new_val, 0)   \n",
    "    return reward\n",
    "   "
   ]
  },
  {
   "cell_type": "code",
   "execution_count": 1391,
   "metadata": {},
   "outputs": [],
   "source": [
    "def savePolicy():\n",
    "        fw = open('policy_final', 'wb')\n",
    "        pickle.dump(player_X.table_points, fw)\n",
    "        fw.close()\n",
    "\n",
    "def loadPolicy(file):\n",
    "        fr = open(file, 'rb')\n",
    "        player_X.table_points = pickle.load(fr)\n",
    "        fr.close()"
   ]
  },
  {
   "cell_type": "code",
   "execution_count": 1392,
   "metadata": {},
   "outputs": [],
   "source": [
    "def practice():\n",
    "    epsilon_hist=[]\n",
    "    avg_win_hist =[]\n",
    "    epsilon = 1\n",
    "    win_cunter = 0\n",
    "    batch = 1\n",
    "    for i in tqdm(range(GAME_SIZE)):\n",
    "        ticTac = TicTacToe()\n",
    "        epsilon = 1* math.exp(-((i*DECAY)/(GAME_SIZE-1)))\n",
    "        epsilon_hist.append(epsilon)\n",
    "        winner = play(ticTac, epsilon)\n",
    "        batch+=1\n",
    "        if winner == \"X\":\n",
    "            win_cunter+=1\n",
    "        if batch == BATCH:\n",
    "            batch = 1\n",
    "            avg_win_hist.append((win_cunter/(BATCH))*100)\n",
    "            win_cunter =0\n",
    "        \n",
    "        stick_and_carrot(winner, 1)\n",
    "    savePolicy()\n",
    "    return epsilon_hist, avg_win_hist\n"
   ]
  },
  {
   "cell_type": "code",
   "execution_count": 1393,
   "metadata": {},
   "outputs": [],
   "source": [
    "def real_game(load):\n",
    "    counter = 0\n",
    "    if load:\n",
    "        loadPolicy(\"policy_final\")\n",
    "    player_X.practice = False\n",
    "    player_O.practice = False\n",
    "    print(player_X.table_points)\n",
    "    for i in tqdm(range(GAME_SIZE)):\n",
    "        ticTac = TicTacToe()\n",
    "        stick_and_carrot(0,0)\n",
    "        winner = play(ticTac)\n",
    "        if winner == \"X\":\n",
    "            counter+=1\n",
    "    print(f\"WIN RATE: {(counter/GAME_SIZE) *100}%\")\n",
    "    ticTac.printGame()\n",
    "    print(player_X.table_points)"
   ]
  },
  {
   "cell_type": "code",
   "execution_count": 1394,
   "metadata": {},
   "outputs": [],
   "source": [
    "class InputHandler:\n",
    "    def __init__(self):\n",
    "        self.input_value = None\n",
    "        self.input_event = threading.Event()\n",
    "\n",
    "    def get_input(self, prompt):\n",
    "        print(prompt, end='', flush=True)\n",
    "        self.input_value = None\n",
    "        self.input_event.clear()\n",
    "        \n",
    "        input_thread = threading.Thread(target=self._input_thread)\n",
    "        input_thread.start()\n",
    "\n",
    "        self.input_event.wait()\n",
    "\n",
    "        return self.input_value\n",
    "\n",
    "    def _input_thread(self):\n",
    "        try:\n",
    "            self.input_value = input()\n",
    "        except EOFError:\n",
    "            pass  \n",
    "\n",
    "        self.input_event.set()"
   ]
  },
  {
   "cell_type": "code",
   "execution_count": 1395,
   "metadata": {},
   "outputs": [],
   "source": [
    "input_handler = InputHandler()"
   ]
  },
  {
   "cell_type": "code",
   "execution_count": 1396,
   "metadata": {},
   "outputs": [],
   "source": [
    "def game_vs_human(ticTacToe: TicTacToe, load):\n",
    "    player_X.practice = False\n",
    "    player_O.practice = False\n",
    "    if load:\n",
    "        loadPolicy(\"policy_final\")\n",
    "    turn = 0\n",
    "    while ticTacToe._available_moves != 0 :\n",
    "        if turn == 1:\n",
    "            player = player_O\n",
    "            row = int(input_handler.get_input(\"Inserisci riga: \"))\n",
    "            column = int(input_handler.get_input(\"Inserisci colonna: \"))\n",
    "            print(row,column)\n",
    "            while ticTacToe.move((row, column), player)!= 1:\n",
    "                row = int(input_handler.get_input(\"Inserisci riga: \"))\n",
    "                column = int(input_handler.get_input(\"Inserisci colonna: \"))\n",
    "                print(row,column)\n",
    "        else:\n",
    "            print(\"ROBOT\")\n",
    "            player = player_X\n",
    "            while ticTacToe.move(player.startegy(player,ticTacToe), player)!= 1:\n",
    "                continue\n",
    "        winner = ticTacToe.check_game()\n",
    "        ticTacToe.printGame()\n",
    "        if winner != \"-1\":\n",
    "            print(f\"Player: {winner} won\")\n",
    "            return winner\n",
    "        turn = 1- turn    \n",
    "        ticTacToe._available_moves -=1\n",
    "    ticTacToe.printGame()\n",
    "    return \"Draw\"\n",
    "    "
   ]
  },
  {
   "cell_type": "code",
   "execution_count": 1397,
   "metadata": {},
   "outputs": [],
   "source": [
    "def plotter(epsilon, win):\n",
    "    episode = list(range(1, len(epsilon) + 1))\n",
    "    plt.plot(episode,epsilon, marker='o', linestyle='-', color='b')\n",
    "    plt.title('Epsilon Decay')\n",
    "    plt.xlabel('Episode')\n",
    "    plt.ylabel('Epsilon')\n",
    "    plt.grid(True)\n",
    "    plt.savefig('EPSILON_DECAY')\n",
    "    plt.show() \n",
    "\n",
    "    episode = list(range(1, int(GAME_SIZE/BATCH) +1))\n",
    "    plt.plot(episode,win, marker='o', linestyle='-', color='r')\n",
    "    plt.title('Win Rate over Episode')\n",
    "    plt.xlabel('Episode')\n",
    "    plt.ylabel('Win Rate')\n",
    "    plt.grid(True)\n",
    "    plt.savefig('WINNING RATE')\n",
    "    plt.show() \n",
    "\n"
   ]
  },
  {
   "cell_type": "code",
   "execution_count": 1398,
   "metadata": {},
   "outputs": [],
   "source": [
    "def gameplay(load):\n",
    "    if not load:\n",
    "        epsilon, win = practice()\n",
    "        plotter(epsilon,win)\n",
    "    real_game(load)\n",
    "    tictactoe = TicTacToe()\n",
    "    game_vs_human(tictactoe, load)"
   ]
  },
  {
   "cell_type": "code",
   "execution_count": 1399,
   "metadata": {},
   "outputs": [
    {
     "name": "stderr",
     "output_type": "stream",
     "text": [
      "  1%|          | 14692/2000000 [00:01<03:26, 9620.12it/s] "
     ]
    },
    {
     "name": "stderr",
     "output_type": "stream",
     "text": [
      "100%|██████████| 2000000/2000000 [01:45<00:00, 19009.56it/s]\n"
     ]
    },
    {
     "data": {
      "image/png": "[encoded data removed]",
      "text/plain": [
       "<Figure size 640x480 with 1 Axes>"
      ]
     },
     "metadata": {},
     "output_type": "display_data"
    },
    {
     "data": {
      "image/png": "[encoded data removed]",
      "text/plain": [
       "<Figure size 640x480 with 1 Axes>"
      ]
     },
     "metadata": {},
     "output_type": "display_data"
    },
    {
     "name": "stdout",
     "output_type": "stream",
     "text": [
      "[[(-0.04680006204719117, 0), (0.6456330981427271, 0), (-0.2588712729238799, 0)], [(-0.040776229146116685, 0), (0.6911189171794353, 0), (0.06184400525019337, 0)], [(-0.13377970231221345, 0), (0.6416778789558163, 0), (-0.07793511125178662, 0)]]\n"
     ]
    },
    {
     "name": "stderr",
     "output_type": "stream",
     "text": [
      "100%|██████████| 2000000/2000000 [01:27<00:00, 22752.44it/s]\n"
     ]
    },
    {
     "name": "stdout",
     "output_type": "stream",
     "text": [
      "WIN RATE: 78.11160000000001%\n",
      "|   | O | O |\n",
      "  -   -   -\n",
      "| X | X | X |\n",
      "  -   -   -\n",
      "|   | X | O |\n",
      "  -   -   -\n",
      "\n",
      "\n",
      "[[(-0.04680006204719117, 0), (0.6456330981427271, 0), (-0.2588712729238799, 0)], [(-0.040776229146116685, 1), (0.6911189171794353, 1), (0.06184400525019337, 1)], [(-0.13377970231221345, 0), (0.6416778789558163, 1), (-0.07793511125178662, 0)]]\n"
     ]
    }
   ],
   "source": [
    "gameplay(False)"
   ]
  }
 ],
 "metadata": {
  "kernelspec": {
   "display_name": "ci-fLJ3OwGs-py3.12",
   "language": "python",
   "name": "python3"
  },
  "language_info": {
   "codemirror_mode": {
    "name": "ipython",
    "version": 3
   },
   "file_extension": ".py",
   "mimetype": "text/x-python",
   "name": "python",
   "nbconvert_exporter": "python",
   "pygments_lexer": "ipython3",
   "version": "3.12.0"
  }
 },
 "nbformat": 4,
 "nbformat_minor": 2
}
