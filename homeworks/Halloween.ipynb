{
 "cells": [
  {
   "cell_type": "code",
   "execution_count": 143,
   "id": "3ffe7245-e849-41d0-9698-5f0e0b83fee9",
   "metadata": {},
   "outputs": [],
   "source": [
    "from itertools import product\n",
    "from functools import reduce\n",
    "from random import random, randint, shuffle, seed, choice\n",
    "import numpy as np\n",
    "from scipy import sparse\n",
    "from copy import copy"
   ]
  },
  {
   "cell_type": "code",
   "execution_count": 144,
   "id": "6f03bd67-78a0-4d72-95b7-77a918727b91",
   "metadata": {},
   "outputs": [],
   "source": [
    "def make_set_covering_problem(num_points, num_sets, density):\n",
    "    \"\"\"Returns a sparse array where rows are sets and columns are the covered items\"\"\"\n",
    "    seed(num_points*2654435761+num_sets+density)\n",
    "    sets = sparse.lil_array((num_sets, num_points), dtype=bool)\n",
    "    for s, p in product(range(num_sets), range(num_points)):\n",
    "        if random() < density:\n",
    "            sets[s, p] = True\n",
    "    for p in range(num_points):\n",
    "        sets[randint(0, num_sets-1), p] = True\n",
    "    return sets"
   ]
  },
  {
   "cell_type": "markdown",
   "id": "82b0be37-21d9-492d-9a1d-cf0cdf0ddd76",
   "metadata": {},
   "source": [
    "# Halloween Challenge\n",
    "\n",
    "Find the best solution with the fewest calls to the fitness functions for:\n",
    "\n",
    "* `num_points = [100, 1_000, 5_000]`\n",
    "* `num_sets = num_points`\n",
    "* `density = [.3, .7]` "
   ]
  },
  {
   "cell_type": "code",
   "execution_count": 145,
   "id": "221ffdba-5d3d-48cc-bd08-45ccc9366ea6",
   "metadata": {},
   "outputs": [
    {
     "name": "stdout",
     "output_type": "stream",
     "text": [
      "Element at row=42 and column=42: False\n"
     ]
    }
   ],
   "source": [
    "x = make_set_covering_problem(1000, 1000, .3)\n",
    "print(\"Element at row=42 and column=42:\", x[42, 42])"
   ]
  },
  {
   "cell_type": "code",
   "execution_count": 146,
   "id": "6492337b-8429-472d-9c3e-c79c5b46da54",
   "metadata": {},
   "outputs": [],
   "source": [
    "SETS = x.toarray()\n",
    "PROBLEM_SIZE = NUM_SETS = 1000\n",
    "\n",
    "def fitness(state): #I'll use fitness2 of set-covering_single_state\n",
    "    cost = sum(state)\n",
    "    valid = np.sum(\n",
    "        reduce(\n",
    "            np.logical_or,\n",
    "            [SETS[i] for i, t in enumerate(state) if t],\n",
    "            np.array([False for _ in range(PROBLEM_SIZE)]),\n",
    "        )\n",
    "    )\n",
    "    return valid, -cost"
   ]
  },
  {
   "cell_type": "code",
   "execution_count": 147,
   "id": "a45ba5fc",
   "metadata": {},
   "outputs": [],
   "source": [
    "def tweak(state): #I'll use the same tweak function\n",
    "    new_state = copy(state)\n",
    "    index = randint(0, PROBLEM_SIZE - 1)\n",
    "    new_state[index] = not new_state[index]\n",
    "    return new_state"
   ]
  },
  {
   "cell_type": "code",
   "execution_count": 148,
   "id": "f7abc64f",
   "metadata": {},
   "outputs": [],
   "source": [
    "def hillClimbing(initial_state, max_steps):\n",
    "    current_state = initial_state\n",
    "    best_state = current_state\n",
    "    best_fitness, _ = fitness(current_state)\n",
    "\n",
    "    for step in range(max_steps):\n",
    "        # Generate a neighbor\n",
    "        neighbor = tweak(current_state)\n",
    "        neighbor_fitness, _ = fitness(neighbor)\n",
    "\n",
    "        # If the neighbor is better, move to the neighbor\n",
    "        if neighbor_fitness >= best_fitness:\n",
    "            current_state = neighbor\n",
    "            best_state = current_state\n",
    "            best_fitness = neighbor_fitness\n",
    "    print(step+1)\n",
    "    return best_state, best_fitness"
   ]
  },
  {
   "cell_type": "code",
   "execution_count": 149,
   "id": "a4d69478",
   "metadata": {},
   "outputs": [],
   "source": [
    "def hillClimbingModified(initial_state, max_steps): #I'll use a modified version of Hill Climbing\n",
    "    current_state = initial_state\n",
    "    best_state = current_state\n",
    "    best_fitness, _ = fitness(current_state)\n",
    "\n",
    "    for step in range(max_steps):\n",
    "        # Generate a neighbor\n",
    "        neighbor = tweak(current_state)\n",
    "        neighbor_fitness, _ = fitness(neighbor)\n",
    "\n",
    "        # If the neighbor is better, move to the neighbor\n",
    "        if neighbor_fitness >= best_fitness:\n",
    "            current_state = neighbor\n",
    "            best_state = current_state\n",
    "            best_fitness = neighbor_fitness\n",
    "        \n",
    "        if fitness(neighbor) >= fitness(current_state):\n",
    "            current_state = neighbor\n",
    "            \n",
    "            if fitness(current_state)[0] == PROBLEM_SIZE: #If I'll have all the tiles covered, I'll break the iterations\n",
    "                print(step+1)\n",
    "                break\n",
    "    return best_state, best_fitness"
   ]
  },
  {
   "cell_type": "code",
   "execution_count": 150,
   "id": "57214e4a",
   "metadata": {},
   "outputs": [
    {
     "name": "stdout",
     "output_type": "stream",
     "text": [
      "10000\n",
      "Hill CLimbing:\n",
      "Best State: [False, True, False, True, False, True, True, False, False, True, False, False, True, False, False, False, True, True, True, True, False, True, True, True, True, False, True, True, True, False, True, True, True, True, False, False, True, False, True, True, False, True, True, True, True, True, False, False, False, True, True, False, True, True, True, False, False, False, False, False, False, False, True, False, False, True, True, False, True, True, False, False, True, True, False, True, True, False, True, True, True, True, True, True, False, False, True, True, True, False, True, False, False, False, False, False, False, True, True, True, True, True, True, True, False, True, True, True, False, False, False, True, True, True, True, False, True, False, True, False, True, False, False, False, False, False, False, False, False, False, True, False, False, False, True, True, True, False, False, True, False, True, False, True, False, False, True, True, False, True, False, True, False, True, False, True, False, False, True, False, True, False, False, True, True, False, False, False, False, True, True, False, True, False, False, False, False, True, False, False, False, False, True, False, False, False, True, True, True, False, False, False, True, True, True, False, False, False, True, False, True, False, False, True, False, True, False, False, True, False, False, False, False, False, False, False, True, True, False, False, True, False, True, True, False, False, False, True, False, True, False, True, False, True, True, True, True, True, True, True, True, True, False, False, True, True, False, True, False, True, False, True, False, False, False, True, False, False, True, True, False, True, False, False, True, True, False, True, False, True, False, False, False, False, True, False, False, True, False, False, True, False, False, False, False, True, True, False, True, True, False, False, False, False, False, False, False, False, True, False, True, False, False, True, True, False, False, False, True, True, False, False, True, True, True, False, True, True, True, False, False, True, True, True, True, True, True, True, False, False, True, False, True, False, False, True, True, False, False, True, True, False, False, True, True, True, False, False, False, False, True, True, True, False, False, True, False, False, False, True, True, False, False, False, True, False, True, True, False, False, True, False, True, True, True, False, True, True, False, False, False, True, True, True, False, False, True, False, False, False, True, True, True, True, True, False, True, True, False, True, False, True, False, False, False, True, True, False, False, False, False, False, True, True, True, True, True, False, False, True, False, False, True, True, False, True, True, True, True, True, True, False, True, True, True, False, True, True, True, False, False, False, True, True, True, False, False, False, True, False, True, True, False, True, True, True, True, False, False, True, True, True, True, True, True, True, True, True, True, False, False, False, False, True, False, False, False, True, False, False, False, True, False, True, False, False, False, True, False, False, True, False, False, True, True, True, False, True, False, True, False, False, True, False, False, True, False, False, True, False, True, False, True, True, True, True, True, True, True, False, True, True, True, False, False, True, False, True, False, True, False, False, False, False, False, True, True, True, False, True, True, True, True, False, False, False, True, True, False, True, False, True, True, False, True, False, True, False, True, False, True, True, False, False, True, False, True, True, False, False, True, False, False, False, True, True, True, True, False, True, False, False, True, True, False, False, False, True, True, True, True, True, True, True, True, True, False, True, True, False, False, True, True, False, True, False, False, False, True, False, True, False, False, True, False, False, True, False, False, True, True, False, True, True, False, True, True, True, False, True, True, True, True, True, False, False, True, True, False, False, True, False, True, False, False, True, False, True, False, True, True, True, False, True, True, False, False, False, True, True, False, False, False, False, False, True, False, True, False, False, False, False, False, False, True, True, True, True, True, False, True, False, False, False, True, False, True, True, False, False, False, True, True, True, True, True, False, False, True, True, True, False, False, True, True, True, True, False, True, True, True, False, False, True, True, False, False, False, True, True, False, True, True, False, False, False, True, False, True, False, True, True, False, True, True, True, True, True, True, False, False, False, True, False, False, True, False, True, True, False, False, True, True, True, True, False, True, True, False, False, False, True, False, False, True, False, False, False, True, True, False, True, False, False, True, True, False, True, False, False, False, True, False, False, False, True, True, False, False, False, True, True, False, False, True, False, False, True, False, False, False, True, True, True, True, False, False, False, False, True, True, True, False, True, True, True, True, False, True, False, True, False, False, True, False, True, True, False, True, True, True, False, False, True, True, True, False, False, True, False, True, False, True, False, True, True, True, False, True, True, False, True, False, True, False, False, True, True, True, False, False, True, True, True, False, True, True, True, False, False, True, True, True, True, True, True, True, False, True, True, True, False, False, False, False, False, True, True, True, True, True, True, False, False, False, True, True, True, True, True, False, False, True, False, False, True, True, False, False, False, True, False, False, True, False, False, True, False, True, True, False, False, True, True, False, False, True, False, False, False, True, False, False, False, True, True, True, True, True, True, False, True, False, False, False, True, True, False, True, False, False, False, False, False, True, True, True, False, False, True, True, True, False, True, False, False, False, True, False, False, True, False, False, True, True, True, True, False, True, True, True, False, False, True, False, True, False, False, True, False, False, True, False, True, False, False, True, False, True, True]\n",
      "Best Fitness: (1000, -512)\n",
      "20\n",
      "Hill CLimbing Modified:\n",
      "Best State: [False, False, False, False, False, False, False, False, False, False, False, False, False, False, False, False, False, False, False, False, False, False, False, False, False, False, False, False, False, False, False, False, False, False, False, False, False, False, False, False, False, False, False, False, False, False, False, False, False, False, False, False, False, False, False, False, False, False, False, False, False, False, False, False, False, False, False, False, False, False, False, False, False, False, False, False, False, False, False, False, False, False, False, False, False, False, False, False, False, False, False, False, False, False, False, False, False, False, False, False, False, False, False, False, False, False, False, False, False, False, False, False, False, False, False, False, False, False, False, False, False, False, False, False, False, False, False, False, False, False, False, False, False, False, False, False, False, False, False, False, False, False, False, False, False, False, False, False, False, False, False, False, False, False, False, False, False, False, False, False, False, False, False, False, False, False, False, False, False, False, False, False, False, False, False, False, False, False, False, False, False, False, False, False, False, False, False, False, False, False, False, False, False, False, False, False, False, False, False, False, False, False, False, False, False, False, False, False, True, False, False, False, False, True, False, False, False, False, False, False, False, False, False, False, False, False, False, False, False, False, False, False, False, False, False, False, False, False, False, False, False, False, False, False, False, False, False, False, False, False, False, False, False, False, False, False, False, False, False, False, False, False, False, False, False, False, False, False, False, False, False, False, False, False, False, False, False, False, False, True, False, False, False, False, False, False, False, False, False, False, False, False, False, False, False, False, False, False, False, False, False, True, False, False, False, False, False, False, False, False, False, False, False, False, False, False, False, False, False, False, False, False, False, False, False, False, False, False, False, False, False, False, False, False, False, False, False, False, False, False, False, False, False, False, False, False, False, False, False, False, False, False, False, False, False, False, False, False, False, False, False, False, False, False, False, False, False, False, False, False, False, False, False, False, False, False, False, False, False, False, False, False, False, False, True, False, False, False, False, False, False, False, False, False, False, False, False, False, False, False, False, False, False, False, False, False, False, False, True, False, False, False, False, False, False, False, False, False, False, False, False, False, False, False, False, False, False, False, False, False, False, False, False, False, False, False, False, False, False, False, False, False, False, False, False, False, False, False, False, False, False, False, False, False, False, False, False, False, False, False, False, False, False, False, False, False, False, False, False, False, False, False, False, False, False, False, False, False, False, False, False, False, False, False, False, False, False, False, False, False, False, False, False, False, False, False, False, False, False, False, False, False, False, False, False, False, False, False, False, False, False, False, False, False, False, False, False, False, False, False, False, False, False, False, False, False, False, False, False, False, False, False, False, False, True, False, False, False, False, False, False, False, False, False, False, False, False, False, False, False, False, False, False, False, False, False, False, False, False, False, False, False, False, False, False, True, False, False, False, False, False, False, False, False, True, False, False, False, False, True, False, False, False, False, False, False, False, False, False, False, False, False, False, False, False, False, False, False, False, False, False, False, False, False, True, False, False, False, True, False, False, False, False, False, False, False, False, False, False, False, False, False, False, False, False, False, False, False, False, False, False, False, False, False, False, False, False, False, False, False, False, False, False, False, False, False, False, False, False, False, False, False, False, False, False, False, False, False, False, False, False, False, False, False, False, False, False, False, False, False, False, False, False, False, False, False, False, False, False, False, False, False, False, False, False, False, False, False, False, False, False, True, False, False, False, False, False, False, False, False, False, False, True, False, False, False, False, False, False, False, False, False, False, False, False, False, False, False, False, False, False, False, False, False, False, False, False, False, False, False, False, False, False, False, False, False, False, False, False, False, False, False, False, False, True, False, False, False, False, False, False, False, False, False, False, False, False, False, False, False, False, False, False, False, False, False, False, False, False, False, False, False, False, False, False, False, False, False, False, False, False, False, False, False, False, False, False, False, False, False, False, False, False, False, False, False, False, False, False, False, False, False, False, False, False, False, False, False, False, False, False, False, False, False, False, False, False, False, True, False, False, False, False, False, False, False, False, False, False, False, False, False, False, False, False, False, False, False, False, False, False, False, False, False, False, False, False, False, False, False, False, False, False, False, False, False, False, False, False, False, False, False, False, False, False, False, False, False, False, True, False, False, False, False, False, False, False, False, False, False, False, False, False, False, False, False, False, False, True, False, False, False, False, False, False, False, False, False, False, False, True, False, False, False, False, False, False, False, False, False, False, False, False, False, False, False, False, False, False, False, False, False, False, False, False, False, False, False, False, False, False, False, False, False, False, False, False, False, False, False, False, False, False, False, False, False, False, False, False, False, False, False, False, False, False, False, False, False, False, False, False, False, False, False, False, False, False, False, False, False, False, False, False, False, False, False, False, False, False, False, False, False, False, False, False, False, False, False, False, False, False, False, False, False, False, False, False, True, False, False]\n",
      "Best Fitness: (1000, -20)\n"
     ]
    }
   ],
   "source": [
    "initial_state = [choice([False, False, False, False, False, False]) for _ in range(NUM_SETS)]\n",
    "best_state, best_fitness = hillClimbing(initial_state, 10000)\n",
    "\n",
    "print(\"Hill CLimbing:\")\n",
    "print(\"Best State:\", best_state)\n",
    "print(\"Best Fitness:\", fitness(best_state))\n",
    "\n",
    "best_state, best_fitness = hillClimbingModified(initial_state, 10000)\n",
    "print(\"Hill CLimbing Modified:\")\n",
    "print(\"Best State:\", best_state)\n",
    "print(\"Best Fitness:\", fitness(best_state))"
   ]
  }
 ],
 "metadata": {
  "kernelspec": {
   "display_name": "Python 3 (ipykernel)",
   "language": "python",
   "name": "python3"
  },
  "language_info": {
   "codemirror_mode": {
    "name": "ipython",
    "version": 3
   },
   "file_extension": ".py",
   "mimetype": "text/x-python",
   "name": "python",
   "nbconvert_exporter": "python",
   "pygments_lexer": "ipython3",
   "version": "3.12.0"
  }
 },
 "nbformat": 4,
 "nbformat_minor": 5
}
